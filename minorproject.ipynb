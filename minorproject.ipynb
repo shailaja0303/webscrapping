{
  "nbformat": 4,
  "nbformat_minor": 0,
  "metadata": {
    "colab": {
      "name": "minorproject.ipynb",
      "provenance": []
    },
    "kernelspec": {
      "name": "python3",
      "display_name": "Python 3"
    },
    "language_info": {
      "name": "python"
    }
  },
  "cells": [
    {
      "cell_type": "code",
      "source": [
        "pip install pytube"
      ],
      "metadata": {
        "colab": {
          "base_uri": "https://localhost:8080/"
        },
        "id": "5CazUkk41c58",
        "outputId": "6acbced3-db86-403a-c86c-9daf1a65d63c"
      },
      "execution_count": null,
      "outputs": [
        {
          "output_type": "stream",
          "name": "stdout",
          "text": [
            "Collecting pytube\n",
            "  Downloading pytube-12.1.0-py3-none-any.whl (56 kB)\n",
            "\u001b[?25l\r\u001b[K     |█████▉                          | 10 kB 15.4 MB/s eta 0:00:01\r\u001b[K     |███████████▋                    | 20 kB 20.2 MB/s eta 0:00:01\r\u001b[K     |█████████████████▍              | 30 kB 16.7 MB/s eta 0:00:01\r\u001b[K     |███████████████████████▏        | 40 kB 11.7 MB/s eta 0:00:01\r\u001b[K     |█████████████████████████████   | 51 kB 8.4 MB/s eta 0:00:01\r\u001b[K     |████████████████████████████████| 56 kB 3.0 MB/s \n",
            "\u001b[?25hInstalling collected packages: pytube\n",
            "Successfully installed pytube-12.1.0\n"
          ]
        }
      ]
    },
    {
      "cell_type": "code",
      "source": [
        "from pytube import YouTube"
      ],
      "metadata": {
        "id": "lS8UWGJ01oti"
      },
      "execution_count": null,
      "outputs": []
    },
    {
      "cell_type": "code",
      "source": [
        "pip install instaloader"
      ],
      "metadata": {
        "colab": {
          "base_uri": "https://localhost:8080/"
        },
        "id": "XYKlT4gg3_pV",
        "outputId": "5dbb2f9a-b5a4-4806-dc3a-53cc4ec2e2b7"
      },
      "execution_count": null,
      "outputs": [
        {
          "output_type": "stream",
          "name": "stdout",
          "text": [
            "Collecting instaloader\n",
            "  Downloading instaloader-4.9.tar.gz (59 kB)\n",
            "\u001b[?25l\r\u001b[K     |█████▌                          | 10 kB 31.7 MB/s eta 0:00:01\r\u001b[K     |███████████                     | 20 kB 35.2 MB/s eta 0:00:01\r\u001b[K     |████████████████▋               | 30 kB 20.7 MB/s eta 0:00:01\r\u001b[K     |██████████████████████▏         | 40 kB 16.8 MB/s eta 0:00:01\r\u001b[K     |███████████████████████████▋    | 51 kB 9.0 MB/s eta 0:00:01\r\u001b[K     |████████████████████████████████| 59 kB 4.8 MB/s \n",
            "\u001b[?25hRequirement already satisfied: requests>=2.4 in /usr/local/lib/python3.7/dist-packages (from instaloader) (2.23.0)\n",
            "Requirement already satisfied: urllib3!=1.25.0,!=1.25.1,<1.26,>=1.21.1 in /usr/local/lib/python3.7/dist-packages (from requests>=2.4->instaloader) (1.24.3)\n",
            "Requirement already satisfied: certifi>=2017.4.17 in /usr/local/lib/python3.7/dist-packages (from requests>=2.4->instaloader) (2021.10.8)\n",
            "Requirement already satisfied: idna<3,>=2.5 in /usr/local/lib/python3.7/dist-packages (from requests>=2.4->instaloader) (2.10)\n",
            "Requirement already satisfied: chardet<4,>=3.0.2 in /usr/local/lib/python3.7/dist-packages (from requests>=2.4->instaloader) (3.0.4)\n",
            "Building wheels for collected packages: instaloader\n",
            "  Building wheel for instaloader (setup.py) ... \u001b[?25l\u001b[?25hdone\n",
            "  Created wheel for instaloader: filename=instaloader-4.9-py3-none-any.whl size=61065 sha256=c32cd7734ca36f25ccc5bf5598199abab1cd6e696fab4b7577f3f038bc37a4f2\n",
            "  Stored in directory: /root/.cache/pip/wheels/85/fb/29/7d540da52b65c8d4718cbb0e24a057d2c0071174716391bd85\n",
            "Successfully built instaloader\n",
            "Installing collected packages: instaloader\n",
            "Successfully installed instaloader-4.9\n"
          ]
        }
      ]
    },
    {
      "cell_type": "code",
      "source": [
        "!pip install -q snscrape==0.3.4"
      ],
      "metadata": {
        "id": "516ANF5nI3Pi"
      },
      "execution_count": null,
      "outputs": []
    },
    {
      "cell_type": "code",
      "source": [
        "import instaloader"
      ],
      "metadata": {
        "id": "sPqQtD994FSk"
      },
      "execution_count": null,
      "outputs": []
    },
    {
      "cell_type": "code",
      "source": [
        "import pandas as pd\n",
        "from collections import Counter"
      ],
      "metadata": {
        "id": "Las8kvzS9ttj"
      },
      "execution_count": null,
      "outputs": []
    },
    {
      "cell_type": "code",
      "source": [
        "import os\n",
        "from datetime import date"
      ],
      "metadata": {
        "id": "a5sVVyTaJCN7"
      },
      "execution_count": null,
      "outputs": []
    },
    {
      "cell_type": "code",
      "source": [
        "print('hello welcome to webscrapping project')\n",
        "print('enter your choice.what you want to scrap ,youtube,instagram,twiter,or website' )\n",
        "user_choice=int(input('enter your choice.1 you tube ,2 instagram,3 twiter,'))\n",
        "print(user_choice)\n",
        "today = date.today()\n",
        "end_date = today\n",
        "if user_choice== 1:\n",
        " link= input('enter the link for youtube video')\n",
        " yt= YouTube(link)\n",
        " print('title:',yt.title)\n",
        " print('RATING:',yt.rating)\n",
        " print('VIEWS:',yt.views)\n",
        " print('LENGHT:',yt.length)\n",
        " print('publishdate:',yt.publish_date)\n",
        " print('url pof the channel that published it',yt.channel_url ) \n",
        " print('author of the video:',yt.author)\n",
        " stream= yt.streams.get_lowest_resolution()\n",
        " stream.download()\n",
        " print(\"download completed\")\n",
        "elif user_choice==2:\n",
        "  print('enter the user name of instagram user')\n",
        "  user_name=input('enter username')\n",
        "  il=instaloader.Instaloader()\n",
        "  profile=instaloader.Profile.from_username(il.context,user_name)\n",
        "  print(type(profile))\n",
        "  print(\"username:\",profile.username)\n",
        "  print(\"userid:\",profile.userid)\n",
        "  print(\"No.of followers:\" ,profile.followers)\n",
        "  print(\"no of followees:\",profile.followees)\n",
        "  print(\"BIO:\",profile.biography,profile.external_url)\n",
        "elif user_choice==3:\n",
        "  #enter the twitter username\n",
        "  user_name=input(\"Enter the Username of the Twitter User:\")\n",
        "#enter how many top tweets you want to scrap\n",
        "  max_results = int(input(\"Enter how many tweets you want to scrap:\"))\n",
        "  #From which date you want to get the tweets\n",
        "#please enter the date in the format as \"yyyy-mm-dd\"\n",
        "  from_date = input(\"Enter the date from which you want to scrap the tweets:\")\n",
        "  user_tweets = \"snscrape --format '{content!r}'\"+ f\" --max-results {max_results} --since {from_date} twitter-user '{user_name} until:{end_date}' > user-tweets.txt\"\n",
        "  os.system(user_tweets)\n",
        "  if os.stat(\"user-tweets.txt\").st_size == 0:\n",
        "    print('No Tweets found')\n",
        "  else:\n",
        "    df = pd.read_csv('user-tweets.txt', names=['content'])\n",
        "    for row in df['content'].iteritems():\n",
        "      print(row)\n",
        "else:\n",
        "  print('sorry wrong input .plz try again')\n",
        "\n",
        "\n",
        "\n",
        "\n",
        "  \n",
        "\n"
      ],
      "metadata": {
        "colab": {
          "base_uri": "https://localhost:8080/"
        },
        "id": "l1ubB1yRzLfs",
        "outputId": "6a1a95c4-0708-4786-b2dd-50d4187521d7"
      },
      "execution_count": null,
      "outputs": [
        {
          "output_type": "stream",
          "name": "stdout",
          "text": [
            "hello welcome to webscrapping project\n",
            "enter your choice.what you want to scrap ,youtube,instagram,twiter,or website\n",
            "enter your choice.1 you tube ,2 instagram,3 twiter,4\n",
            "4\n",
            "sorry wrong input .plz try again\n"
          ]
        }
      ]
    }
  ]
}